{
 "cells": [
  {
   "cell_type": "code",
   "execution_count": 13,
   "id": "5aae808e-7037-4b8f-8a2a-eea1334c5140",
   "metadata": {},
   "outputs": [
    {
     "name": "stdout",
     "output_type": "stream",
     "text": [
      "Defaulting to user installation because normal site-packages is not writeable\n",
      "Requirement already satisfied: binarytree in c:\\users\\allen'liang\\appdata\\roaming\\python\\python311\\site-packages (6.5.1)\n",
      "Requirement already satisfied: graphviz in c:\\users\\allen'liang\\appdata\\roaming\\python\\python311\\site-packages (from binarytree) (0.20.3)\n",
      "Requirement already satisfied: setuptools>=60.8.2 in d:\\anacoda\\envs\\tensorflow\\lib\\site-packages (from binarytree) (69.5.1)\n",
      "Requirement already satisfied: setuptools-scm>=5.0.1 in c:\\users\\allen'liang\\appdata\\roaming\\python\\python311\\site-packages (from setuptools-scm[toml]>=5.0.1->binarytree) (8.1.0)\n",
      "Requirement already satisfied: packaging>=20 in c:\\users\\allen'liang\\appdata\\roaming\\python\\python311\\site-packages (from setuptools-scm>=5.0.1->setuptools-scm[toml]>=5.0.1->binarytree) (24.0)\n",
      "Defaulting to user installation because normal site-packages is not writeable\n",
      "Requirement already satisfied: graphviz in c:\\users\\allen'liang\\appdata\\roaming\\python\\python311\\site-packages (0.20.3)\n"
     ]
    }
   ],
   "source": [
    "! pip install binarytree\n",
    "! pip install graphviz"
   ]
  },
  {
   "cell_type": "markdown",
   "id": "46820882-ee7d-48e3-87fb-849c7fadecfe",
   "metadata": {},
   "source": [
    "# 线性搜索"
   ]
  },
  {
   "cell_type": "code",
   "execution_count": 2,
   "id": "697fdb37-e461-4c09-8106-3b50e5926f35",
   "metadata": {},
   "outputs": [],
   "source": [
    "def linear_search(lst,n):\n",
    "    \"\"\"\n",
    "    input: 序列，一个数字\n",
    "    output:数字n所在的位置.如果没有,输出没有找到\n",
    "    \"\"\"\n",
    "    length=len(lst)\n",
    "    flag=1\n",
    "    for i in range(length):\n",
    "        if lst[i]==n:\n",
    "            return f\"{n}在第{i+1}位\"\n",
    "            flag=0\n",
    "    if flag==1:\n",
    "        return \"没有找到\"\n",
    "\n",
    "            \n",
    "\n",
    "\n",
    "\n",
    "\n",
    "\n",
    "\n",
    "        "
   ]
  },
  {
   "cell_type": "code",
   "execution_count": 3,
   "id": "c1bbd4e3-4ca4-4574-8ff5-23161a1794c4",
   "metadata": {},
   "outputs": [
    {
     "data": {
      "text/plain": [
       "'54在第5位'"
      ]
     },
     "execution_count": 3,
     "metadata": {},
     "output_type": "execute_result"
    }
   ],
   "source": [
    "linear_search([1,2,3,4,54,6],54)"
   ]
  },
  {
   "cell_type": "markdown",
   "id": "92e0279b-05bb-444d-b0e0-c89fc70e0b36",
   "metadata": {},
   "source": [
    "# 归并排序"
   ]
  },
  {
   "cell_type": "code",
   "execution_count": 60,
   "id": "9dbe6f38-8af6-4843-9bd8-719551ba693f",
   "metadata": {},
   "outputs": [
    {
     "data": {
      "text/plain": [
       "[1, 1, 3, 5, 5, 7, 9, 78]"
      ]
     },
     "execution_count": 60,
     "metadata": {},
     "output_type": "execute_result"
    }
   ],
   "source": [
    "def split(lst):\n",
    "    mid=len(lst)//2\n",
    "    L1=lst[:mid]\n",
    "    L2=lst[mid:]\n",
    "    return L1,L2\n",
    "\n",
    "def merge(L1,L2):\n",
    "    if L1==[]:\n",
    "        return L2\n",
    "    elif L2==[]:\n",
    "        return L1\n",
    "    else:\n",
    "        if L1[0]>L2[0]:\n",
    "            result=[]\n",
    "            result.append(L2.pop(0))\n",
    "            result+=merge(L1,L2)\n",
    "            return result\n",
    "        else:\n",
    "            result=[]\n",
    "            result.append(L1.pop(0))\n",
    "            result+=merge(L1,L2)\n",
    "            return result\n",
    "\n",
    "\n",
    "def merge_sort(lst):\n",
    "    if lst==[]:\n",
    "        return lst\n",
    "    if len(lst)==1:\n",
    "        return lst\n",
    "    else:\n",
    "        L1,L2=split(lst)\n",
    "        L1=merge_sort(L1)\n",
    "        L2=merge_sort(L2)\n",
    "        return merge(L1,L2)\n",
    "\n",
    "merge_sort([1,7,5,3,5,78,9,1])\n",
    "\n",
    "        \n",
    "    "
   ]
  },
  {
   "cell_type": "code",
   "execution_count": 53,
   "id": "eb70a5f8-7a1e-4eb3-8874-11db18da24ed",
   "metadata": {},
   "outputs": [
    {
     "data": {
      "text/plain": [
       "[2, 3]"
      ]
     },
     "execution_count": 53,
     "metadata": {},
     "output_type": "execute_result"
    }
   ],
   "source": [
    "L1=[1,2,3]\n",
    "L1.pop(0)\n",
    "L1"
   ]
  },
  {
   "cell_type": "markdown",
   "id": "9c204961-6d7f-45ea-a049-1704bb363568",
   "metadata": {},
   "source": [
    "# 递归算法的应用\n",
    "* 求和\n",
    "* 斐波那契数列\n",
    "* 二分查找\n",
    "* 构建二叉搜索树 Binary Search Tree"
   ]
  },
  {
   "cell_type": "markdown",
   "id": "fa8406c1-98b5-4327-9703-7f73a1e637fb",
   "metadata": {},
   "source": [
    "递归求和"
   ]
  },
  {
   "cell_type": "code",
   "execution_count": 5,
   "id": "c4fcceb3-131e-45c6-bf8e-abe89e278f21",
   "metadata": {},
   "outputs": [],
   "source": [
    "def my_sum(n):\n",
    "    \"\"\"\n",
    "    input: 求和的最后一项\n",
    "    output: 和\n",
    "    \"\"\"\n",
    "    if n==0:\n",
    "        return 0\n",
    "    else:\n",
    "        return n+my_sum(n-1)"
   ]
  },
  {
   "cell_type": "code",
   "execution_count": 11,
   "id": "a11d7b8f-1c2b-4b07-867c-b7ff27324ab3",
   "metadata": {},
   "outputs": [
    {
     "data": {
      "text/plain": [
       "3"
      ]
     },
     "execution_count": 11,
     "metadata": {},
     "output_type": "execute_result"
    }
   ],
   "source": [
    "my_sum(2)"
   ]
  },
  {
   "cell_type": "code",
   "execution_count": null,
   "id": "742cff7a-46e9-4693-aefa-ba96dc45808f",
   "metadata": {},
   "outputs": [],
   "source": []
  },
  {
   "cell_type": "markdown",
   "id": "2c3347a5-a5e9-4a28-a18a-8252b74f0ee0",
   "metadata": {},
   "source": [
    "递归法求斐波那契数"
   ]
  },
  {
   "cell_type": "code",
   "execution_count": null,
   "id": "10954d1b-13c5-4661-94bc-0edb1bddd5f3",
   "metadata": {},
   "outputs": [],
   "source": [
    "def fib(n):\n",
    "    \"\"\"\n",
    "    input: 斐波那契数的项数\n",
    "    output: 第n项斐波那契数\n",
    "\n",
    "    \"\"\"\n",
    "    if n==1 or n==2:\n",
    "        return 1\n",
    "    else:\n",
    "        return fib(n-1)+fib(n-2)\n",
    "\n",
    "fib(10)"
   ]
  },
  {
   "cell_type": "code",
   "execution_count": 2,
   "id": "ffbd0111-2722-4764-b0ff-a1226fb55d1c",
   "metadata": {},
   "outputs": [
    {
     "name": "stdout",
     "output_type": "stream",
     "text": [
      "Fibonacci number for n=100 is 354224848179261915075\n"
     ]
    }
   ],
   "source": [
    "def fibonacci(n):\n",
    "    if n <= 0:\n",
    "        return 0\n",
    "    elif n == 1:\n",
    "        return 1\n",
    "\n",
    "    # 初始化前两个斐波那契数\n",
    "    fib = [0] * (n + 1)\n",
    "    fib[1] = 1\n",
    "\n",
    "    # 使用动态规划填充数组\n",
    "    for i in range(2, n + 1):\n",
    "        fib[i] = fib[i - 1] + fib[i - 2]\n",
    "\n",
    "    return fib[n]\n",
    "\n",
    "# 测试\n",
    "n = 100\n",
    "print(f\"Fibonacci number for n={n} is {fibonacci(n)}\")\n"
   ]
  },
  {
   "cell_type": "markdown",
   "id": "0ab9b81d-58a1-40c5-9eca-8d1b3596c425",
   "metadata": {},
   "source": [
    "递归法二分查找"
   ]
  },
  {
   "cell_type": "code",
   "execution_count": 24,
   "id": "88c73123-25bf-414d-938b-9620fc3dc1d5",
   "metadata": {},
   "outputs": [
    {
     "data": {
      "text/plain": [
       "9"
      ]
     },
     "execution_count": 24,
     "metadata": {},
     "output_type": "execute_result"
    }
   ],
   "source": [
    "def recursive_binary_search(arr, left, right, target):\n",
    "    \"\"\"\n",
    "    left: 最左边数的位置\n",
    "    right:最右边数字的位置\n",
    "    arr:序列\n",
    "    target:目标值\n",
    "    \"\"\"\n",
    "\n",
    "    if right >= left:\n",
    "        mid = left + (right - left) // 2\n",
    "        \n",
    "        # 检查中间元素\n",
    "        if arr[mid] == target:\n",
    "            return mid\n",
    "        # 如果目标值较大，忽略左半部分\n",
    "        elif arr[mid] < target:\n",
    "            return recursive_binary_search(arr, mid + 1, right, target)\n",
    "        # 如果目标值较小，忽略右半部分\n",
    "        else:\n",
    "            return recursive_binary_search(arr, left, mid - 1, target)\n",
    "    else:\n",
    "        # 如果未找到目标值，返回 -1\n",
    "        return -1\n",
    "\n",
    "recursive_binary_search([1,2,3,4,5,6,7,8,9,10],1,10,10)\n"
   ]
  },
  {
   "cell_type": "markdown",
   "id": "40863180-9e7e-4439-9ff4-925c2337866e",
   "metadata": {},
   "source": [
    "# 二叉搜索树的代码实现"
   ]
  },
  {
   "cell_type": "markdown",
   "id": "e8a1df07-98dd-47ed-aad8-f42199526505",
   "metadata": {},
   "source": [
    "* 定义节点\n",
    "* 插入元素\n",
    "* 搜索元素\n",
    "* 可视化树"
   ]
  },
  {
   "cell_type": "code",
   "execution_count": 40,
   "id": "5825a07f-37f6-46d6-acfa-7a0685dd2fa3",
   "metadata": {},
   "outputs": [],
   "source": [
    "class TreeNode:\n",
    "    #定义节点\n",
    "\n",
    "    def __init__(self,value):\n",
    "        self.left=None\n",
    "        self.right=None\n",
    "        self.value=value\n",
    "    \n",
    "    #插入元素\n",
    "    def insert(self,value):\n",
    "        \"\"\"\n",
    "        将数值（value）插入树中\n",
    "        \"\"\"\n",
    "        if value<self.value:\n",
    "            if self.left is None:\n",
    "                self.left=TreeNode(value)\n",
    "            else:\n",
    "                self.left.insert(value)\n",
    "        elif value>self.value:\n",
    "            if self.right is None:\n",
    "                self.right=TreeNode(value)\n",
    "            else:\n",
    "                self.right.insert(value)\n",
    "\n",
    "    #搜索元素\n",
    "    def search(self, value):\n",
    "        if self.value == value:\n",
    "            return 1\n",
    "        elif value < self.value and self.left:\n",
    "            return self.left.search(value)\n",
    "        elif value > self.value and self.right:\n",
    "            return self.right.search(value)\n",
    "        else:\n",
    "            return 0\n",
    "\n",
    "    \n",
    "            \n",
    "\n",
    "\n"
   ]
  },
  {
   "cell_type": "code",
   "execution_count": 45,
   "id": "396d708e-8a7d-41c2-850d-9219ada5cf5e",
   "metadata": {},
   "outputs": [
    {
     "name": "stdout",
     "output_type": "stream",
     "text": [
      "Search for 40: 1\n",
      "Search for 100: 0\n"
     ]
    }
   ],
   "source": [
    "root = TreeNode(50)\n",
    "keys = [30, 20, 40, 70, 60, 80]\n",
    "\n",
    "for key in keys:\n",
    "    root.insert(key)\n",
    "\n",
    "# 查找节点\n",
    "print(\"Search for 40:\", root.search(40))  # 输出 1\n",
    "print(\"Search for 100:\", root.search(100))"
   ]
  },
  {
   "cell_type": "code",
   "execution_count": 5,
   "id": "3af1b9fd-a89c-47f4-8c04-d01219538f92",
   "metadata": {},
   "outputs": [
    {
     "name": "stdout",
     "output_type": "stream",
     "text": [
      "Search for 67 1\n",
      "Search for 99: 0\n"
     ]
    },
    {
     "data": {
      "image/png": "[encoded data removed]",
      "text/plain": [
       "<Figure size 640x480 with 1 Axes>"
      ]
     },
     "metadata": {},
     "output_type": "display_data"
    }
   ],
   "source": [
    "import matplotlib.pyplot as plt\n",
    "import networkx as nx\n",
    "\n",
    "class TreeNode:\n",
    "    # 定义节点\n",
    "    def __init__(self, value):\n",
    "        self.left = None\n",
    "        self.right = None\n",
    "        self.value = value\n",
    "\n",
    "    # 插入元素\n",
    "    def insert(self, value):\n",
    "        \"\"\"\n",
    "        将数值 (value) 插入树中\n",
    "        \"\"\"\n",
    "        if value < self.value:\n",
    "            if self.left is None:\n",
    "                self.left = TreeNode(value)\n",
    "            else:\n",
    "                self.left.insert(value)\n",
    "        elif value > self.value:\n",
    "            if self.right is None:\n",
    "                self.right = TreeNode(value)\n",
    "            else:\n",
    "                self.right.insert(value)\n",
    "        elif value == self.value:\n",
    "            return\n",
    "\n",
    "    # 搜索元素\n",
    "    def search(self, value):\n",
    "        if self.value == value:\n",
    "            return 1\n",
    "        elif value < self.value and self.left:\n",
    "            return self.left.search(value)\n",
    "        elif value > self.value and self.right:\n",
    "            return self.right.search(value)\n",
    "        return 0\n",
    "\n",
    "    # 可视化树\n",
    "    def draw_tree(self):\n",
    "        if not self:\n",
    "            return\n",
    "\n",
    "        def add_edges(node, pos, G, x=0, y=0, layer=1):\n",
    "            if node.left:\n",
    "                G.add_edge(node.value, node.left.value)\n",
    "                pos[node.left.value] = (x - 1 / layer, y - 1)\n",
    "                pos = add_edges(node.left, pos, G, x - 1 / layer, y - 1, layer + 1)\n",
    "            if node.right:\n",
    "                G.add_edge(node.value, node.right.value)\n",
    "                pos[node.right.value] = (x + 1 / layer, y - 1)\n",
    "                pos = add_edges(node.right, pos, G, x + 1 / layer, y - 1, layer + 1)\n",
    "            return pos\n",
    "\n",
    "        G = nx.Graph()\n",
    "        pos = {self.value: (0, 0)}\n",
    "        pos = add_edges(self, pos, G)\n",
    "\n",
    "        nx.draw(G, pos, with_labels=True, node_size=5000, node_color='skyblue', font_size=16, font_weight='bold')\n",
    "        plt.show()\n",
    "\n",
    "# 使用示例\n",
    "root = TreeNode(50)\n",
    "keys = [30, 20, 40, 70, 60, 80,19,30,100,8,67]\n",
    "\n",
    "for key in keys:\n",
    "    root.insert(key)\n",
    "\n",
    "# 查找节点\n",
    "print(\"Search for 67\", root.search(67))  # 输出 1\n",
    "print(\"Search for 99:\", root.search(99))  # 输出 0\n",
    "\n",
    "# 可视化二叉搜索树\n",
    "root.draw_tree()\n"
   ]
  },
  {
   "cell_type": "markdown",
   "id": "79278556-b39d-4c42-86c9-a7afb3e8ac9c",
   "metadata": {},
   "source": [
    "# binary tree "
   ]
  },
  {
   "cell_type": "markdown",
   "id": "ad3488cc-17e6-4b5f-902d-fdc09c5d1016",
   "metadata": {},
   "source": [
    "* 我们可以调用binary tree 的库来便捷地构建树"
   ]
  },
  {
   "cell_type": "code",
   "execution_count": 47,
   "id": "7e89f3b9-883a-4279-a9d3-7eed081b67d0",
   "metadata": {},
   "outputs": [],
   "source": [
    "from binarytree import Node"
   ]
  },
  {
   "cell_type": "code",
   "execution_count": 50,
   "id": "fb672426-8400-418a-8097-82e6c5fd0e3f",
   "metadata": {},
   "outputs": [
    {
     "name": "stdout",
     "output_type": "stream",
     "text": [
      "\n",
      "  __1\n",
      " /   \\\n",
      "2     3\n",
      " \\\n",
      "  4\n",
      "\n"
     ]
    }
   ],
   "source": [
    "root=Node(1)\n",
    "root.left = Node(2)\n",
    "root.right = Node(3)\n",
    "root.left.right = Node(4)\n",
    "print(root)"
   ]
  },
  {
   "cell_type": "code",
   "execution_count": 51,
   "id": "aead37ad-635e-405d-a0fc-e43af427f4fd",
   "metadata": {},
   "outputs": [
    {
     "data": {
      "text/plain": [
       "3"
      ]
     },
     "execution_count": 51,
     "metadata": {},
     "output_type": "execute_result"
    }
   ],
   "source": [
    "from binarytree import bst\n",
    "root = bst(height=3, is_perfect=True)\n",
    "root.height"
   ]
  },
  {
   "cell_type": "code",
   "execution_count": 52,
   "id": "f673d439-1657-4aa7-8a04-695812dab0cf",
   "metadata": {},
   "outputs": [
    {
     "name": "stdout",
     "output_type": "stream",
     "text": [
      "\n",
      "        ______7_______\n",
      "       /              \\\n",
      "    __3__           ___11___\n",
      "   /     \\         /        \\\n",
      "  1       5       9         _13\n",
      " / \\     / \\     / \\       /   \\\n",
      "0   2   4   6   8   10    12    14\n",
      "\n"
     ]
    }
   ],
   "source": [
    "print(root)"
   ]
  },
  {
   "cell_type": "code",
   "execution_count": 54,
   "id": "4a40e85d-efaf-4d94-8f9d-f21023a2d969",
   "metadata": {},
   "outputs": [],
   "source": [
    "graph=root.graphviz()"
   ]
  },
  {
   "cell_type": "code",
   "execution_count": null,
   "id": "0343a368-ebfa-4d8c-b625-496269700973",
   "metadata": {},
   "outputs": [],
   "source": []
  },
  {
   "cell_type": "code",
   "execution_count": null,
   "id": "608c12ae-2c75-42a0-ac88-447959db865e",
   "metadata": {},
   "outputs": [],
   "source": []
  }
 ],
 "metadata": {
  "kernelspec": {
   "display_name": "tensorflow",
   "language": "python",
   "name": "tensorflow"
  },
  "language_info": {
   "codemirror_mode": {
    "name": "ipython",
    "version": 3
   },
   "file_extension": ".py",
   "mimetype": "text/x-python",
   "name": "python",
   "nbconvert_exporter": "python",
   "pygments_lexer": "ipython3",
   "version": "3.11.9"
  }
 },
 "nbformat": 4,
 "nbformat_minor": 5
}
